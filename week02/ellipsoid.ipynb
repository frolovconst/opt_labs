{
 "cells": [
  {
   "cell_type": "code",
   "execution_count": 1,
   "metadata": {
    "collapsed": true
   },
   "outputs": [],
   "source": [
    "import numpy as np"
   ]
  },
  {
   "cell_type": "code",
   "execution_count": 105,
   "metadata": {},
   "outputs": [],
   "source": [
    "A = np.array([[1.0, .0],[-1.0,.0],[.0,1.0], [.0,-1.0], [1.0,1.0]])\n",
    "n = A.shape[1]\n",
    "m = A.shape[0]\n",
    "b = np.array([1.0,.0,1.0,.0,1.5]).reshape(m,1)\n",
    "c = np.array([-2.0,-1.0]).reshape(n,1)\n",
    "x_o = np.array([3.0,3.0]).reshape(n,1)"
   ]
  },
  {
   "cell_type": "code",
   "execution_count": 148,
   "metadata": {},
   "outputs": [],
   "source": [
    "def ellipsoid_meth(c,A,b,x_o,epsilon):\n",
    "    steps_no = 10000\n",
    "    r_a, r_b = 20.0,20.0\n",
    "    n = x_o.size\n",
    "    H = np.array([[r_a**2, 0],[0, r_b**2]])\n",
    "    for i in range(steps_no):\n",
    "#        print('i=', i)\n",
    "        if (A.dot(x_o) - b < 0).all():\n",
    "            w_t = c\n",
    "#            print('Inside feasibility domain')\n",
    "        else:\n",
    "            j = np.argmax(A.dot(x_o)-b)\n",
    "            w_t = A[j].reshape(n,1)\n",
    "#            print('Outside feasibility domain')\n",
    "#        print(w_t)\n",
    "        x_new = calculate_step(H,w_t,x_o)\n",
    "        if (A.dot(x_new) - b < 0).all() and norm(x_new - x_o) < epsilon:\n",
    "            x_o = x_new\n",
    "            break\n",
    "        x_o = x_new\n",
    "        H = calculate_H(H,w_t,n)\n",
    "    print(x_o)\n",
    "    print('iterations =',i)\n",
    "    print(\"H=\", H)\n",
    "    return x_o\n",
    "\n",
    "    \n",
    "def calculate_step(H_t,w,x_o):\n",
    "    n = x_o.shape[0] \n",
    "    x_o = x_o - H_t.dot(w)/np.sqrt(w.T.dot(H_t).dot(w))/(n+1)\n",
    "#    print(x_o)\n",
    "    return x_o\n",
    "    \n",
    "def calculate_H(H_t, w,n):\n",
    "    H = n**2/(n**2-1)*(H_t - 2/(n+1)*H_t.dot(w).dot(w.T).dot(H_t)/w.T.dot(H_t).dot(w))\n",
    "#    print(H)\n",
    "    return H\n",
    "\n",
    "def norm(x):\n",
    "    return np.sqrt((x**2).sum())"
   ]
  },
  {
   "cell_type": "code",
   "execution_count": 149,
   "metadata": {},
   "outputs": [
    {
     "name": "stdout",
     "output_type": "stream",
     "text": [
      "[[ 0.9999979 ]\n",
      " [ 0.50000061]]\n",
      "iterations = 107\n",
      "H= [[  2.44087149e-10  -3.99208058e-10]\n",
      " [ -3.99208058e-10   9.70225433e-10]]\n"
     ]
    }
   ],
   "source": [
    "x_res = ellipsoid_meth(c,A,b,x_o,1e-5)"
   ]
  },
  {
   "cell_type": "code",
   "execution_count": 146,
   "metadata": {},
   "outputs": [
    {
     "data": {
      "text/plain": [
       "array([[-0.56837367],\n",
       "       [-0.43162633],\n",
       "       [-0.33166439],\n",
       "       [-0.66833561],\n",
       "       [-0.40003806]])"
      ]
     },
     "execution_count": 146,
     "metadata": {},
     "output_type": "execute_result"
    }
   ],
   "source": [
    "A.dot(x_res) - b"
   ]
  },
  {
   "cell_type": "code",
   "execution_count": 126,
   "metadata": {},
   "outputs": [
    {
     "data": {
      "text/plain": [
       "NoneType"
      ]
     },
     "execution_count": 126,
     "metadata": {},
     "output_type": "execute_result"
    }
   ],
   "source": [
    "type(x_res)"
   ]
  },
  {
   "cell_type": "code",
   "execution_count": 113,
   "metadata": {},
   "outputs": [
    {
     "data": {
      "text/plain": [
       "array([1, 2])"
      ]
     },
     "execution_count": 113,
     "metadata": {},
     "output_type": "execute_result"
    }
   ],
   "source": [
    "np.absolute(np.array([1,2]))"
   ]
  },
  {
   "cell_type": "code",
   "execution_count": null,
   "metadata": {
    "collapsed": true
   },
   "outputs": [],
   "source": []
  }
 ],
 "metadata": {
  "kernelspec": {
   "display_name": "Python 3",
   "language": "python",
   "name": "python3"
  },
  "language_info": {
   "codemirror_mode": {
    "name": "ipython",
    "version": 3
   },
   "file_extension": ".py",
   "mimetype": "text/x-python",
   "name": "python",
   "nbconvert_exporter": "python",
   "pygments_lexer": "ipython3",
   "version": "3.6.1"
  }
 },
 "nbformat": 4,
 "nbformat_minor": 2
}
