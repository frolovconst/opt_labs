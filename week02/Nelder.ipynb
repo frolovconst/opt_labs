{
 "cells": [
  {
   "cell_type": "code",
   "execution_count": 2,
   "metadata": {
    "collapsed": false
   },
   "outputs": [],
   "source": [
    "import numpy as np"
   ]
  },
  {
   "cell_type": "code",
   "execution_count": 28,
   "metadata": {
    "collapsed": true
   },
   "outputs": [],
   "source": [
    "def Himmelblau(x):\n",
    "    return (x[0]**2 + x[1] - 11)**2 + (x[0] + x[1]**2 - 7)**2"
   ]
  },
  {
   "cell_type": "code",
   "execution_count": 189,
   "metadata": {
    "collapsed": true
   },
   "outputs": [],
   "source": [
    "def Misha(x):\n",
    "    return np.sin(x[1])*np.e**((1-np.cos(x[0]))**2) + np.cos(x[0])*np.e**((1-np.sin(x[1]))**2)+(x[0]-x[1])**2"
   ]
  },
  {
   "cell_type": "code",
   "execution_count": 5,
   "metadata": {
    "collapsed": false
   },
   "outputs": [
    {
     "data": {
      "text/plain": [
       "3"
      ]
     },
     "execution_count": 5,
     "metadata": {},
     "output_type": "execute_result"
    }
   ],
   "source": [
    "Himmelblau(np.array([1,2]))"
   ]
  },
  {
   "cell_type": "code",
   "execution_count": 198,
   "metadata": {
    "collapsed": false
   },
   "outputs": [],
   "source": [
    "def Nelder(opt_func, epsilon):\n",
    "    steps_no = 300\n",
    "    n = 2\n",
    "    alpha = 1\n",
    "    gamma = 2\n",
    "    rho = .5\n",
    "#    sigma = .5\n",
    "    simplex = (6*np.random.rand((n+1)*n)-3).reshape(n+1,n)\n",
    "    xl = (6*np.random.rand(n)-3)\n",
    "    xh = (6*np.random.rand(n)-3)\n",
    "    xg = (6*np.random.rand(n)-3)\n",
    "    values = np.zeros(n+1)\n",
    "    values[0] = opt_func(simplex[0])\n",
    "    values[1] = opt_func(simplex[1])\n",
    "    values[2] = opt_func(simplex[2])\n",
    "    for i in range(steps_no):\n",
    "        new_simplex = np.array([xl, xg, xh])\n",
    "        if disp(new_simplex, simplex) < epsilon:\n",
    "            simplex = new_simplex\n",
    "            print('Convergence at ', simplex)\n",
    "            print('Func value = ', opt_func(simplex[0]))\n",
    "            break\n",
    "        simplex = new_simplex\n",
    "        values[0] = opt_func(simplex[0])\n",
    "        values[1] = opt_func(simplex[1])\n",
    "        values[2] = opt_func(simplex[2])\n",
    "        xh = simplex[np.argmax(values)]\n",
    "        xg = simplex[3 - np.argmax(values) - np.argmin(values)]\n",
    "        xl = simplex[np.argmin(values)]\n",
    "        xc = (xg+xl)/2\n",
    "        xr = (1+alpha)*xc - alpha*xh\n",
    "#        print('xr=',xr)\n",
    "        fr = opt_func(xr)\n",
    "        if fr < opt_func(xl):\n",
    "            xe = (1-gamma)*xc + gamma*xr\n",
    "            fe = opt_func(xe)\n",
    "            if fe < fr:\n",
    "                xh = xe\n",
    "                continue\n",
    "            else:\n",
    "                xh = xr\n",
    "        elif fr < opt_func(xg):\n",
    "            xh = xr\n",
    "            continue\n",
    "        elif fr < opt_func(xh):\n",
    "            bfr = xh\n",
    "            xh = xr\n",
    "            xr = bfr\n",
    "        #step 6\n",
    "        xs = rho*xh + (1-rho)*xc\n",
    "        fs = opt_func(xs)\n",
    "        fh = opt_func(xh)\n",
    "        if fs < fh:\n",
    "            xh = xs\n",
    "            continue\n",
    "        else:\n",
    "            xg = xl + (xg-xl)/2\n",
    "            xh = xl + (xh-xl)/2\n",
    "            \n",
    "        #step9:\n",
    "    \n",
    "        \n",
    "    sorted_values = np.sort(values, axis=0)\n",
    "#    print(values)\n",
    "#    print(xh)\n",
    "    return simplex\n",
    "#    print (opt_func(x))"
   ]
  },
  {
   "cell_type": "code",
   "execution_count": 213,
   "metadata": {
    "collapsed": false
   },
   "outputs": [
    {
     "name": "stdout",
     "output_type": "stream",
     "text": [
      "Convergence at  [[-3.13024679 -1.58214218]\n",
      " [-3.13024679 -1.58214218]\n",
      " [-3.13024679 -1.58214218]]\n",
      "Func value =  -106.764536749\n"
     ]
    },
    {
     "data": {
      "text/plain": [
       "array([[-3.13024679, -1.58214218],\n",
       "       [-3.13024679, -1.58214218],\n",
       "       [-3.13024679, -1.58214218]])"
      ]
     },
     "execution_count": 213,
     "metadata": {},
     "output_type": "execute_result"
    }
   ],
   "source": [
    "Nelder(Misha, 1e-10)"
   ]
  },
  {
   "cell_type": "code",
   "execution_count": 75,
   "metadata": {
    "collapsed": true
   },
   "outputs": [],
   "source": [
    "def disp(new_simplex, old_simplex):\n",
    "    sigma = norm(new_simplex - old_simplex)\n",
    "    return sigma.sum()\n",
    "def norm(x):\n",
    "    return np.sqrt((x**2).sum())"
   ]
  },
  {
   "cell_type": "code",
   "execution_count": 76,
   "metadata": {
    "collapsed": false
   },
   "outputs": [
    {
     "data": {
      "text/plain": [
       "1.4142135623730951"
      ]
     },
     "execution_count": 76,
     "metadata": {},
     "output_type": "execute_result"
    }
   ],
   "source": [
    "disp(np.ones((1,2)), np.zeros((1,2)))"
   ]
  },
  {
   "cell_type": "code",
   "execution_count": 77,
   "metadata": {
    "collapsed": false
   },
   "outputs": [
    {
     "name": "stdout",
     "output_type": "stream",
     "text": [
      "xr= [[-11.05373751   0.26426772]]\n"
     ]
    },
    {
     "ename": "IndexError",
     "evalue": "index 1 is out of bounds for axis 0 with size 1",
     "output_type": "error",
     "traceback": [
      "\u001b[0;31m---------------------------------------------------------------------------\u001b[0m",
      "\u001b[0;31mIndexError\u001b[0m                                Traceback (most recent call last)",
      "\u001b[0;32m<ipython-input-77-c7a493a89ebc>\u001b[0m in \u001b[0;36m<module>\u001b[0;34m()\u001b[0m\n\u001b[0;32m----> 1\u001b[0;31m \u001b[0mNelder\u001b[0m\u001b[0;34m(\u001b[0m\u001b[0mHimmelblau\u001b[0m\u001b[0;34m,\u001b[0m \u001b[0;36m1e-5\u001b[0m\u001b[0;34m)\u001b[0m\u001b[0;34m\u001b[0m\u001b[0m\n\u001b[0m",
      "\u001b[0;32m<ipython-input-74-04c38dbcaf30>\u001b[0m in \u001b[0;36mNelder\u001b[0;34m(opt_func, epsilon)\u001b[0m\n\u001b[1;32m     18\u001b[0m         \u001b[0mxr\u001b[0m \u001b[0;34m=\u001b[0m \u001b[0;34m(\u001b[0m\u001b[0;36m1\u001b[0m\u001b[0;34m+\u001b[0m\u001b[0malpha\u001b[0m\u001b[0;34m)\u001b[0m\u001b[0;34m*\u001b[0m\u001b[0mxc\u001b[0m \u001b[0;34m-\u001b[0m \u001b[0malpha\u001b[0m\u001b[0;34m*\u001b[0m\u001b[0mxh\u001b[0m\u001b[0;34m\u001b[0m\u001b[0m\n\u001b[1;32m     19\u001b[0m         \u001b[0mprint\u001b[0m\u001b[0;34m(\u001b[0m\u001b[0;34m'xr='\u001b[0m\u001b[0;34m,\u001b[0m\u001b[0mxr\u001b[0m\u001b[0;34m)\u001b[0m\u001b[0;34m\u001b[0m\u001b[0m\n\u001b[0;32m---> 20\u001b[0;31m         \u001b[0mfr\u001b[0m \u001b[0;34m=\u001b[0m \u001b[0mopt_func\u001b[0m\u001b[0;34m(\u001b[0m\u001b[0mxr\u001b[0m\u001b[0;34m)\u001b[0m\u001b[0;34m\u001b[0m\u001b[0m\n\u001b[0m\u001b[1;32m     21\u001b[0m         \u001b[0;32mif\u001b[0m \u001b[0mfr\u001b[0m \u001b[0;34m<\u001b[0m \u001b[0mopt_func\u001b[0m\u001b[0;34m(\u001b[0m\u001b[0mxl\u001b[0m\u001b[0;34m)\u001b[0m\u001b[0;34m:\u001b[0m\u001b[0;34m\u001b[0m\u001b[0m\n\u001b[1;32m     22\u001b[0m             \u001b[0mxe\u001b[0m \u001b[0;34m=\u001b[0m \u001b[0;34m(\u001b[0m\u001b[0;36m1\u001b[0m\u001b[0;34m-\u001b[0m\u001b[0mgamma\u001b[0m\u001b[0;34m)\u001b[0m\u001b[0;34m*\u001b[0m\u001b[0mxc\u001b[0m \u001b[0;34m+\u001b[0m \u001b[0mgamma\u001b[0m\u001b[0;34m*\u001b[0m\u001b[0mxr\u001b[0m\u001b[0;34m\u001b[0m\u001b[0m\n",
      "\u001b[0;32m<ipython-input-28-7a43300bc951>\u001b[0m in \u001b[0;36mHimmelblau\u001b[0;34m(x)\u001b[0m\n\u001b[1;32m      1\u001b[0m \u001b[0;32mdef\u001b[0m \u001b[0mHimmelblau\u001b[0m\u001b[0;34m(\u001b[0m\u001b[0mx\u001b[0m\u001b[0;34m)\u001b[0m\u001b[0;34m:\u001b[0m\u001b[0;34m\u001b[0m\u001b[0m\n\u001b[0;32m----> 2\u001b[0;31m     \u001b[0;32mreturn\u001b[0m \u001b[0;34m(\u001b[0m\u001b[0mx\u001b[0m\u001b[0;34m[\u001b[0m\u001b[0;36m0\u001b[0m\u001b[0;34m]\u001b[0m\u001b[0;34m**\u001b[0m\u001b[0;36m2\u001b[0m \u001b[0;34m+\u001b[0m \u001b[0mx\u001b[0m\u001b[0;34m[\u001b[0m\u001b[0;36m1\u001b[0m\u001b[0;34m]\u001b[0m \u001b[0;34m-\u001b[0m \u001b[0;36m11\u001b[0m\u001b[0;34m)\u001b[0m\u001b[0;34m**\u001b[0m\u001b[0;36m2\u001b[0m \u001b[0;34m+\u001b[0m \u001b[0;34m(\u001b[0m\u001b[0mx\u001b[0m\u001b[0;34m[\u001b[0m\u001b[0;36m0\u001b[0m\u001b[0;34m]\u001b[0m \u001b[0;34m+\u001b[0m \u001b[0mx\u001b[0m\u001b[0;34m[\u001b[0m\u001b[0;36m1\u001b[0m\u001b[0;34m]\u001b[0m\u001b[0;34m**\u001b[0m\u001b[0;36m2\u001b[0m \u001b[0;34m-\u001b[0m \u001b[0;36m7\u001b[0m\u001b[0;34m)\u001b[0m\u001b[0;34m**\u001b[0m\u001b[0;36m2\u001b[0m\u001b[0;34m\u001b[0m\u001b[0m\n\u001b[0m",
      "\u001b[0;31mIndexError\u001b[0m: index 1 is out of bounds for axis 0 with size 1"
     ]
    }
   ],
   "source": [
    "Nelder(Himmelblau, 1e-5)"
   ]
  },
  {
   "cell_type": "code",
   "execution_count": 59,
   "metadata": {
    "collapsed": false
   },
   "outputs": [
    {
     "data": {
      "text/plain": [
       "191.97099359234647"
      ]
     },
     "execution_count": 59,
     "metadata": {},
     "output_type": "execute_result"
    }
   ],
   "source": [
    "Himmelblau([.84042086, 4.31983075])"
   ]
  }
 ],
 "metadata": {
  "kernelspec": {
   "display_name": "Python 3",
   "language": "python",
   "name": "python3"
  },
  "language_info": {
   "codemirror_mode": {
    "name": "ipython",
    "version": 3
   },
   "file_extension": ".py",
   "mimetype": "text/x-python",
   "name": "python",
   "nbconvert_exporter": "python",
   "pygments_lexer": "ipython3",
   "version": "3.6.0"
  }
 },
 "nbformat": 4,
 "nbformat_minor": 2
}
