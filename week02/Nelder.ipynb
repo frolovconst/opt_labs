{
 "cells": [
  {
   "cell_type": "code",
   "execution_count": 214,
   "metadata": {
    "collapsed": false
   },
   "outputs": [],
   "source": [
    "import numpy as np"
   ]
  },
  {
   "cell_type": "code",
   "execution_count": 215,
   "metadata": {
    "collapsed": true
   },
   "outputs": [],
   "source": [
    "def Himmelblau(x):\n",
    "    return (x[0]**2 + x[1] - 11)**2 + (x[0] + x[1]**2 - 7)**2"
   ]
  },
  {
   "cell_type": "code",
   "execution_count": 216,
   "metadata": {
    "collapsed": true
   },
   "outputs": [],
   "source": [
    "def Misha(x):\n",
    "    return np.sin(x[1])*np.e**((1-np.cos(x[0]))**2) + np.cos(x[0])*np.e**((1-np.sin(x[1]))**2)+(x[0]-x[1])**2"
   ]
  },
  {
   "cell_type": "code",
   "execution_count": 217,
   "metadata": {
    "collapsed": false
   },
   "outputs": [
    {
     "data": {
      "text/plain": [
       "68"
      ]
     },
     "execution_count": 217,
     "metadata": {},
     "output_type": "execute_result"
    }
   ],
   "source": [
    "Himmelblau(np.array([1,2]))"
   ]
  },
  {
   "cell_type": "code",
   "execution_count": 218,
   "metadata": {
    "collapsed": false
   },
   "outputs": [],
   "source": [
    "def Nelder(opt_func, epsilon):\n",
    "    steps_no = 300\n",
    "    n = 2\n",
    "    alpha = 1\n",
    "    gamma = 2\n",
    "    rho = .5\n",
    "#    sigma = .5\n",
    "    simplex = (6*np.random.rand((n+1)*n)-3).reshape(n+1,n)\n",
    "    xl = (10*np.random.rand(n)-5)\n",
    "    xh = (10*np.random.rand(n)-5)\n",
    "    xg = (10*np.random.rand(n)-5)\n",
    "    values = np.zeros(n+1)\n",
    "    values[0] = opt_func(simplex[0])\n",
    "    values[1] = opt_func(simplex[1])\n",
    "    values[2] = opt_func(simplex[2])\n",
    "    for i in range(steps_no):\n",
    "        new_simplex = np.array([xl, xg, xh])\n",
    "        if disp(new_simplex, simplex) < epsilon:\n",
    "            simplex = new_simplex\n",
    "            print('Convergence at ', simplex)\n",
    "            print('Func value = ', opt_func(simplex[0]))\n",
    "            break\n",
    "        simplex = new_simplex\n",
    "        values[0] = opt_func(simplex[0])\n",
    "        values[1] = opt_func(simplex[1])\n",
    "        values[2] = opt_func(simplex[2])\n",
    "        xh = simplex[np.argmax(values)]\n",
    "        xg = simplex[3 - np.argmax(values) - np.argmin(values)]\n",
    "        xl = simplex[np.argmin(values)]\n",
    "        xc = (xg+xl)/2\n",
    "        xr = (1+alpha)*xc - alpha*xh\n",
    "#        print('xr=',xr)\n",
    "        fr = opt_func(xr)\n",
    "        if fr < opt_func(xl):\n",
    "            xe = (1-gamma)*xc + gamma*xr\n",
    "            fe = opt_func(xe)\n",
    "            if fe < fr:\n",
    "                xh = xe\n",
    "                continue\n",
    "            else:\n",
    "                xh = xr\n",
    "        elif fr < opt_func(xg):\n",
    "            xh = xr\n",
    "            continue\n",
    "        elif fr < opt_func(xh):\n",
    "            bfr = xh\n",
    "            xh = xr\n",
    "            xr = bfr\n",
    "        #step 6\n",
    "        xs = rho*xh + (1-rho)*xc\n",
    "        fs = opt_func(xs)\n",
    "        fh = opt_func(xh)\n",
    "        if fs < fh:\n",
    "            xh = xs\n",
    "            continue\n",
    "        else:\n",
    "            xg = xl + (xg-xl)/2\n",
    "            xh = xl + (xh-xl)/2\n",
    "            \n",
    "        #step9:\n",
    "    \n",
    "        \n",
    "    sorted_values = np.sort(values, axis=0)\n",
    "#    print(values)\n",
    "#    print(xh)\n",
    "    return simplex\n",
    "#    print (opt_func(x))"
   ]
  },
  {
   "cell_type": "code",
   "execution_count": 251,
   "metadata": {
    "collapsed": false
   },
   "outputs": [
    {
     "name": "stdout",
     "output_type": "stream",
     "text": [
      "Convergence at  [[-3.77931025 -3.28318599]\n",
      " [-3.77931025 -3.28318599]\n",
      " [-3.77931025 -3.28318599]]\n",
      "Func value =  4.2963311953e-20\n"
     ]
    },
    {
     "data": {
      "text/plain": [
       "array([[-3.77931025, -3.28318599],\n",
       "       [-3.77931025, -3.28318599],\n",
       "       [-3.77931025, -3.28318599]])"
      ]
     },
     "execution_count": 251,
     "metadata": {},
     "output_type": "execute_result"
    }
   ],
   "source": [
    "Nelder(Himmelblau, 1e-10)"
   ]
  },
  {
   "cell_type": "code",
   "execution_count": 252,
   "metadata": {
    "collapsed": true
   },
   "outputs": [],
   "source": [
    "def disp(new_simplex, old_simplex):\n",
    "    sigma = norm(new_simplex - old_simplex)\n",
    "    return sigma.sum()\n",
    "def norm(x):\n",
    "    return np.sqrt((x**2).sum())"
   ]
  },
  {
   "cell_type": "code",
   "execution_count": 253,
   "metadata": {
    "collapsed": false
   },
   "outputs": [
    {
     "data": {
      "text/plain": [
       "1.4142135623730951"
      ]
     },
     "execution_count": 253,
     "metadata": {},
     "output_type": "execute_result"
    }
   ],
   "source": [
    "disp(np.ones((1,2)), np.zeros((1,2)))"
   ]
  },
  {
   "cell_type": "code",
   "execution_count": 274,
   "metadata": {
    "collapsed": false
   },
   "outputs": [
    {
     "name": "stdout",
     "output_type": "stream",
     "text": [
      "Convergence at  [[ 2.99999851  2.00000005]\n",
      " [ 2.99999988  1.99999492]\n",
      " [ 3.00000148  1.99999943]]\n",
      "Func value =  8.09373134273e-11\n"
     ]
    },
    {
     "data": {
      "text/plain": [
       "array([[ 2.99999851,  2.00000005],\n",
       "       [ 2.99999988,  1.99999492],\n",
       "       [ 3.00000148,  1.99999943]])"
      ]
     },
     "execution_count": 274,
     "metadata": {},
     "output_type": "execute_result"
    }
   ],
   "source": [
    "Nelder(Himmelblau, 1e-5)"
   ]
  },
  {
   "cell_type": "code",
   "execution_count": 275,
   "metadata": {
    "collapsed": false
   },
   "outputs": [
    {
     "data": {
      "text/plain": [
       "191.97099359234647"
      ]
     },
     "execution_count": 275,
     "metadata": {},
     "output_type": "execute_result"
    }
   ],
   "source": [
    "Himmelblau([.84042086, 4.31983075])"
   ]
  }
 ],
 "metadata": {
  "kernelspec": {
   "display_name": "Python 3",
   "language": "python",
   "name": "python3"
  },
  "language_info": {
   "codemirror_mode": {
    "name": "ipython",
    "version": 3
   },
   "file_extension": ".py",
   "mimetype": "text/x-python",
   "name": "python",
   "nbconvert_exporter": "python",
   "pygments_lexer": "ipython3",
   "version": "3.6.0"
  }
 },
 "nbformat": 4,
 "nbformat_minor": 2
}
