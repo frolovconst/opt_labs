{
 "cells": [
  {
   "cell_type": "code",
   "execution_count": 8,
   "metadata": {
    "collapsed": true
   },
   "outputs": [],
   "source": [
    "import cvxopt as cvx"
   ]
  },
  {
   "cell_type": "code",
   "execution_count": 10,
   "metadata": {},
   "outputs": [],
   "source": [
    "test_mx = cvx.matrix([[1,2,3],[4,5,6]])"
   ]
  },
  {
   "cell_type": "code",
   "execution_count": 12,
   "metadata": {},
   "outputs": [
    {
     "name": "stdout",
     "output_type": "stream",
     "text": [
      "[ 1  4]\n",
      "[ 2  5]\n",
      "[ 3  6]\n",
      "\n"
     ]
    }
   ],
   "source": [
    "print(test_mx)"
   ]
  },
  {
   "cell_type": "code",
   "execution_count": 31,
   "metadata": {},
   "outputs": [],
   "source": [
    "A_test = cvx.matrix([[-1.0,0.0,0.0,1.0,0.0,0.0,1.0],[0.0,-1.0,0.0,0.0,1.0,0.0,1.0],[0.0,0.0,-1.0,0.0,0.0,1.0,1.0]])\n",
    "b_test = cvx.matrix([0.0,0.0,0.0,2.0,2.0,2.0,5.0])\n",
    "c_test = cvx.matrix([1.0,1.0,-1.0])"
   ]
  },
  {
   "cell_type": "code",
   "execution_count": 32,
   "metadata": {},
   "outputs": [
    {
     "data": {
      "text/plain": [
       "'d'"
      ]
     },
     "execution_count": 32,
     "metadata": {},
     "output_type": "execute_result"
    }
   ],
   "source": [
    "c_test.typecode"
   ]
  },
  {
   "cell_type": "code",
   "execution_count": 33,
   "metadata": {},
   "outputs": [
    {
     "name": "stdout",
     "output_type": "stream",
     "text": [
      "     pcost       dcost       gap    pres   dres   k/t\n",
      " 0:  1.4000e+00 -1.6200e+01  1e+01  0e+00  2e+00  1e+00\n",
      " 1:  3.1572e-01 -3.2626e+00  2e+00  1e-16  3e-01  2e-01\n",
      " 2: -1.8542e+00 -2.9102e+00  9e-01  2e-16  1e-01  1e-01\n",
      " 3: -1.9983e+00 -2.0098e+00  9e-03  2e-16  1e-03  1e-03\n",
      " 4: -2.0000e+00 -2.0001e+00  9e-05  1e-16  1e-05  1e-05\n",
      " 5: -2.0000e+00 -2.0000e+00  9e-07  2e-16  1e-07  1e-07\n",
      " 6: -2.0000e+00 -2.0000e+00  9e-09  2e-16  1e-09  1e-09\n",
      "Optimal solution found.\n"
     ]
    }
   ],
   "source": [
    "solution = cvx.solvers.lp(c_test, A_test, b_test)"
   ]
  },
  {
   "cell_type": "code",
   "execution_count": 34,
   "metadata": {},
   "outputs": [
    {
     "name": "stdout",
     "output_type": "stream",
     "text": [
      "[ 1.95e-10]\n",
      "[ 1.95e-10]\n",
      "[ 2.00e+00]\n",
      "\n"
     ]
    }
   ],
   "source": [
    "print(solution['x'])"
   ]
  }
 ],
 "metadata": {
  "kernelspec": {
   "display_name": "Python 3",
   "language": "python",
   "name": "python3"
  },
  "language_info": {
   "codemirror_mode": {
    "name": "ipython",
    "version": 3
   },
   "file_extension": ".py",
   "mimetype": "text/x-python",
   "name": "python",
   "nbconvert_exporter": "python",
   "pygments_lexer": "ipython3",
   "version": "3.6.1"
  }
 },
 "nbformat": 4,
 "nbformat_minor": 2
}
