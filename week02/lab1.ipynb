{
 "cells": [
  {
   "cell_type": "code",
   "execution_count": 11,
   "metadata": {
    "collapsed": false
   },
   "outputs": [],
   "source": [
    "import cvxopt as cvx\n",
    "import numpy as np"
   ]
  },
  {
   "cell_type": "code",
   "execution_count": 2,
   "metadata": {
    "collapsed": false
   },
   "outputs": [],
   "source": [
    "test_mx = cvx.matrix([[1,2,3],[4,5,6]])"
   ]
  },
  {
   "cell_type": "code",
   "execution_count": 3,
   "metadata": {
    "collapsed": false
   },
   "outputs": [
    {
     "name": "stdout",
     "output_type": "stream",
     "text": [
      "[ 1  4]\n",
      "[ 2  5]\n",
      "[ 3  6]\n",
      "\n"
     ]
    }
   ],
   "source": [
    "print(test_mx)"
   ]
  },
  {
   "cell_type": "code",
   "execution_count": 24,
   "metadata": {
    "collapsed": true
   },
   "outputs": [],
   "source": [
    "A_test = cvx.matrix([[-1.0,0.0,0.0,1.0,0.0,0.0,1.0],[0.0,-1.0,0.0,0.0,1.0,0.0,1.0],[0.0,0.0,-1.0,0.0,0.0,1.0,1.0]])\n",
    "A = np.array(A_test)\n",
    "b_test = cvx.matrix([0.0,0.0,0.0,2.0,2.0,2.0,5.0])\n",
    "b = np.array(b_test)\n",
    "c_test = cvx.matrix([1.0,1.0,-1.0])\n",
    "c = np.array(c_test)\n",
    "x_o = np.array([2,2,0]).reshape(3,1)"
   ]
  },
  {
   "cell_type": "code",
   "execution_count": 5,
   "metadata": {
    "collapsed": false
   },
   "outputs": [
    {
     "name": "stdout",
     "output_type": "stream",
     "text": [
      "     pcost       dcost       gap    pres   dres   k/t\n",
      " 0:  1.4000e+00 -1.6200e+01  1e+01  0e+00  2e+00  1e+00\n",
      " 1:  3.1572e-01 -3.2626e+00  2e+00  9e-17  3e-01  2e-01\n",
      " 2: -1.8542e+00 -2.9102e+00  9e-01  1e-16  1e-01  1e-01\n",
      " 3: -1.9983e+00 -2.0098e+00  9e-03  4e-16  1e-03  1e-03\n",
      " 4: -2.0000e+00 -2.0001e+00  9e-05  2e-16  1e-05  1e-05\n",
      " 5: -2.0000e+00 -2.0000e+00  9e-07  3e-16  1e-07  1e-07\n",
      " 6: -2.0000e+00 -2.0000e+00  9e-09  1e-16  1e-09  1e-09\n",
      "Optimal solution found.\n"
     ]
    }
   ],
   "source": [
    "solution = cvx.solvers.lp(c_test, A_test, b_test)"
   ]
  },
  {
   "cell_type": "code",
   "execution_count": 175,
   "metadata": {
    "collapsed": false
   },
   "outputs": [],
   "source": [
    "from numpy.linalg import inv\n",
    "\n",
    "def simplex_opt(c,A,b,x_o):\n",
    "    n = x_o.size\n",
    "    m = b.size\n",
    "    J = calculate_J(A,b,x_o)\n",
    "    z = np.zeros((m,1))\n",
    "    z[J] = calculate_z(A,J,c)\n",
    "    while (z<0).any():\n",
    "        k = np.argmin(z)\n",
    "        dx = calculate_dx(A,J,k,m)\n",
    "        alpha = recalculate_J(A,b,x_o,J,k,dx)\n",
    "        x_o = x_o + alpha*dx\n",
    "        J = calculate_J(A,b,x_o)\n",
    "        z = np.zeros((m,1))\n",
    "        z[J] = calculate_z(A,J,c)\n",
    "    print('Optimal point is \\n{}'.format(x_o))\n",
    "\n",
    "    \n",
    "def calculate_J(A,b,x_o):\n",
    "    return np.where((A.dot(x_o)-b==0))[0]\n",
    "\n",
    "def calculate_z(A,J,c):\n",
    "    z = -inv(A[J].dot(A[J].T)).dot(A[J]).dot(c)\n",
    "    #print(z)\n",
    "    return z\n",
    "\n",
    "def calculate_dx(A,J,k,m):\n",
    "    j = np.zeros((m,1))\n",
    "    j[k] = -1\n",
    "    dx = inv(A[J]).dot(j[J])\n",
    "    return dx\n",
    "\n",
    "def recalculate_J(A,b,x,J,k,dx):\n",
    "    i = np.where(A.dot(dx) > 0)[0]\n",
    "    j = np.argmin(((b[i]-A[i].dot(x))/(A[i].dot(dx))))\n",
    "    j = i[j]\n",
    "    alpha = (b[j]-A[j].T.dot(x))/A[j].T.dot(dx)\n",
    "    return alpha\n",
    "\n",
    "def calculate_c(c,x):\n",
    "    c_in = c.reshape(c.size,1)\n",
    "    x_in = x.reshape(x.size,1)\n",
    "    return c_in.T.dot(x_in)"
   ]
  },
  {
   "cell_type": "code",
   "execution_count": 176,
   "metadata": {
    "collapsed": false
   },
   "outputs": [
    {
     "name": "stdout",
     "output_type": "stream",
     "text": [
      "Optimal point is \n",
      "[[ 0.]\n",
      " [ 0.]\n",
      " [ 2.]]\n"
     ]
    }
   ],
   "source": [
    "simplex_opt(c,A,b,x_o)"
   ]
  },
  {
   "cell_type": "code",
   "execution_count": 166,
   "metadata": {
    "collapsed": false
   },
   "outputs": [
    {
     "data": {
      "text/plain": [
       "array([[ 0.,  0.,  0.],\n",
       "       [ 0.,  0.,  0.]])"
      ]
     },
     "execution_count": 166,
     "metadata": {},
     "output_type": "execute_result"
    }
   ],
   "source": [
    "np.zeros((2,3))"
   ]
  },
  {
   "cell_type": "code",
   "execution_count": 20,
   "metadata": {
    "collapsed": false
   },
   "outputs": [
    {
     "data": {
      "text/plain": [
       "(7, 1)"
      ]
     },
     "execution_count": 20,
     "metadata": {},
     "output_type": "execute_result"
    }
   ],
   "source": [
    "b.shape"
   ]
  }
 ],
 "metadata": {
  "kernelspec": {
   "display_name": "Python 3",
   "language": "python",
   "name": "python3"
  },
  "language_info": {
   "codemirror_mode": {
    "name": "ipython",
    "version": 3
   },
   "file_extension": ".py",
   "mimetype": "text/x-python",
   "name": "python",
   "nbconvert_exporter": "python",
   "pygments_lexer": "ipython3",
   "version": "3.6.0"
  }
 },
 "nbformat": 4,
 "nbformat_minor": 2
}
