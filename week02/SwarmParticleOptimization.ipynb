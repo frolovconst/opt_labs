{
 "cells": [
  {
   "cell_type": "code",
   "execution_count": 1,
   "metadata": {
    "collapsed": true
   },
   "outputs": [],
   "source": [
    "import numpy as np\n",
    "import matplotlib.pyplot as plt"
   ]
  },
  {
   "cell_type": "code",
   "execution_count": 2,
   "metadata": {
    "collapsed": true
   },
   "outputs": [],
   "source": [
    "def Himmelblau(x):\n",
    "    return (x[0]**2 + x[1] - 11)**2 + (x[0] + x[1]**2 - 7)**2"
   ]
  },
  {
   "cell_type": "code",
   "execution_count": 77,
   "metadata": {
    "collapsed": true
   },
   "outputs": [],
   "source": [
    "class Particle:\n",
    "#     n = None\n",
    "#     position = None\n",
    "#     new_position = None\n",
    "#     pbest = None\n",
    "#     cval = None\n",
    "#     velocity = None\n",
    "    velocity_space = None\n",
    "    \n",
    "    def __init__(self, n, func, s_space, max_vel):\n",
    "        self.n = n\n",
    "        self.position = np.asarray([np.random.random()*(s[1]-(s[0]))+(s[0]) for s in s_space])\n",
    "        self.new_position = np.asarray([np.random.random()*(s[1]-(s[0]))+(s[0]) for s in s_space])\n",
    "        self.pbest = func(self.position)\n",
    "        self.cval = self.pbest\n",
    "        Particle.velocity_space = np.append(-.3*np.abs(s_space[:,1]-s_space[:,0]).reshape(n,1), .3*np.abs(s_space[:,1]-s_space[:,0]).reshape(n,1), axis=1)\n",
    "        self.velocity = np.random.random(n)*(Particle.velocity_space[:,1] - Particle.velocity_space[:,0])\n",
    "        \n",
    "    def update_velocity(self, gbest, max_vel, c1, c2):\n",
    "        r1 = np.random.random()\n",
    "        r2 = np.random.random()\n",
    "        new_vel = .5*self.velocity + c1*r1*(self.pbest-self.position) + c2*r2*(gbest-self.position)\n",
    "        new_vel = np.fmax(new_vel, Particle.velocity_space[:,0])\n",
    "#         new_vel = np.fmax(new_vel, -max_vel*np.ones(self.n))\n",
    "        self.velocity = np.fmin(new_vel, Particle.velocity_space[:,1])\n",
    "        return new_vel\n",
    "    \n",
    "    def update_pos(self, gbest, func):\n",
    "        self.new_position = self.position + self.velocity\n",
    "        new_f_val = func(self.new_position)\n",
    "        if new_f_val < func(self.position):\n",
    "            self.pbest = self.new_position\n",
    "            if new_f_val < func(gbest):\n",
    "                return self.new_position\n",
    "        return gbest\n",
    "    \n",
    "    def make_step(self):\n",
    "        self.position = self.new_position"
   ]
  },
  {
   "cell_type": "code",
   "execution_count": 78,
   "metadata": {
    "collapsed": true
   },
   "outputs": [],
   "source": [
    "def disp(particles):\n",
    "    sigma = norm(np.asarray([o.new_position for o in particles]) - np.asarray([o.position for o in particles]))\n",
    "    return sigma.sum()\n",
    "def norm(x):\n",
    "    return np.sqrt((x**2).sum())"
   ]
  },
  {
   "cell_type": "code",
   "execution_count": 93,
   "metadata": {
    "collapsed": true
   },
   "outputs": [],
   "source": [
    "def SwrmPrtclOpt(n, search_space, opt_func, epsilon, prtcls_count=30, l_factor1=2, l_factor2=2, velocity_limit=1, iterno=500):\n",
    "    fig, axes = plt.subplots(2,5, figsize=[15,7])\n",
    "    plt.subplots_adjust(hspace=.6, wspace=.8)\n",
    "    particles = [Particle(n, opt_func, search_space, velocity_limit) for i in range(prtcls_count)]\n",
    "    plot_x, plot_y = 0,0\n",
    "    for i in range(iterno):\n",
    "#         new_val = np.array([p.cval for p in particles])\n",
    "        if disp(particles) < epsilon:\n",
    "#             simplex = new_val\n",
    "#             plt.plot(np.append(simplex[:,0],simplex[0,0]), np.append(simplex[:,1],simplex[0,1]))\n",
    "            print('Convergence at {0:.3f}\\nArgument value'.format(opt_func(gbest)))\n",
    "            print(gbest)\n",
    "#             print('Func value = ', opt_func(simplex[0]))\n",
    "#             print('No of iterations =',i)\n",
    "#             print('Final simplex = ', simplex)\n",
    "            plt.show()\n",
    "            return\n",
    "        gbest = particles[np.argmin([p.cval for p in particles])].position\n",
    "        for p in particles:\n",
    "            p.make_step()\n",
    "            p.update_velocity(gbest, velocity_limit, l_factor1, l_factor2)\n",
    "            gbest = p.update_pos(gbest, opt_func)\n",
    "#         simplex = new_val\n",
    "        \n",
    "        if i%(iterno/10) == 0:\n",
    "            axes[plot_y][plot_x].plot([p.position[0] for p in particles], [p.position[1] for p in particles], linestyle='', marker='x')\n",
    "            axes[plot_y][plot_x].grid()\n",
    "            axes[plot_y][plot_x].set_title(repr(plot_y*5+plot_x+1))\n",
    "            print('F val={} at {}'.format(opt_func(gbest), gbest))\n",
    "            if plot_x > 3:\n",
    "                plot_x = 0\n",
    "                plot_y += 1\n",
    "            else:\n",
    "                plot_x += 1\n",
    "    print('Summary')\n",
    "    print('Failed to converge\\nFunction value is {0:.3f}\\nArgument value'.format(opt_func(gbest)))\n",
    "    print(gbest)\n",
    "    print(Particle.velocity_space)\n",
    "    plt.show()"
   ]
  },
  {
   "cell_type": "code",
   "execution_count": 94,
   "metadata": {},
   "outputs": [
    {
     "name": "stdout",
     "output_type": "stream",
     "text": [
      "F val=2.3532041868333806 at [ 2.80352805  2.34726179]\n",
      "F val=0.04170094317700693 at [ 2.99702388  1.95185202]\n",
      "F val=0.0008378839335853277 at [ 3.00518034  1.99665499]\n",
      "F val=0.0008481417166280549 at [ 3.00045588  1.9926826 ]\n",
      "F val=5.108025147295652e-06 at [ 3.0003309  1.999489 ]\n",
      "F val=4.064186092398234e-09 at [ 3.00000728  1.9999838 ]\n",
      "F val=1.3937699362003797e-08 at [ 2.99998059  2.00002283]\n",
      "F val=7.459474195833708e-10 at [ 2.99999998  2.00000664]\n",
      "F val=7.319389052373002e-10 at [ 3.00000076  2.00000603]\n",
      "F val=9.168258500094882e-10 at [ 2.99999457  2.00000316]\n",
      "Summary\n",
      "Failed to converge\n",
      "Function value is 0.000\n",
      "Argument value\n",
      "[ 2.99999808  2.00000493]\n",
      "[[-3.   3. ]\n",
      " [-1.8  1.8]]\n"
     ]
    },
    {
     "data": {
      "image/png": "[encoded data removed]",
      "text/plain": [
       "<matplotlib.figure.Figure at 0x117eeb160>"
      ]
     },
     "metadata": {},
     "output_type": "display_data"
    }
   ],
   "source": [
    "SwrmPrtclOpt(2, spc, Himmelblau, 1e-10, iterno=500, prtcls_count=5, velocity_limit=.5)"
   ]
  },
  {
   "cell_type": "code",
   "execution_count": 402,
   "metadata": {},
   "outputs": [
    {
     "data": {
      "text/plain": [
       "7.173639958541349"
      ]
     },
     "execution_count": 402,
     "metadata": {},
     "output_type": "execute_result"
    }
   ],
   "source": [
    "Himmelblau([ 3.39314238,  1.26738216])"
   ]
  },
  {
   "cell_type": "code",
   "execution_count": 604,
   "metadata": {
    "collapsed": true
   },
   "outputs": [],
   "source": [
    "ps = [Particle(2, Himmelblau, spc, 1) for i in range(5)]"
   ]
  },
  {
   "cell_type": "code",
   "execution_count": 785,
   "metadata": {},
   "outputs": [
    {
     "data": {
      "text/plain": [
       "[array([ 3.90106516,  4.16661467]),\n",
       " array([ 16.35076682,  17.67383041]),\n",
       " array([ 73.79126334,  65.8504972 ]),\n",
       " array([ 90.12102861,  92.27252397]),\n",
       " array([ 29.12566522,  25.87923755])]"
      ]
     },
     "execution_count": 785,
     "metadata": {},
     "output_type": "execute_result"
    }
   ],
   "source": [
    "[p.update_velocity([ 3.39314238,  1.26738216], 1, 2, 2) for p in ps]"
   ]
  },
  {
   "cell_type": "code",
   "execution_count": 794,
   "metadata": {},
   "outputs": [
    {
     "data": {
      "text/plain": [
       "[3.7733004015829348,\n",
       " 2.3956633047923024,\n",
       " -3.7507929890867588,\n",
       " 0.31230641160439188,\n",
       " -2.6131514888250305]"
      ]
     },
     "execution_count": 794,
     "metadata": {},
     "output_type": "execute_result"
    }
   ],
   "source": [
    "[p.position[0] for p in ps]"
   ]
  },
  {
   "cell_type": "code",
   "execution_count": 451,
   "metadata": {
    "collapsed": true
   },
   "outputs": [],
   "source": [
    "ggbest=np.array([ 3.39314238,  1.26738216])"
   ]
  },
  {
   "cell_type": "code",
   "execution_count": 468,
   "metadata": {
    "collapsed": true
   },
   "outputs": [],
   "source": [
    "ps[0].update_velocity(ggbest, 1, 2, 2)"
   ]
  },
  {
   "cell_type": "code",
   "execution_count": 7,
   "metadata": {
    "collapsed": true
   },
   "outputs": [],
   "source": [
    "spc = np.array([[-5,5], [-3,3]])"
   ]
  },
  {
   "cell_type": "code",
   "execution_count": 219,
   "metadata": {},
   "outputs": [
    {
     "data": {
      "text/plain": [
       "array([ 0.99761723, -0.22162526, -1.22371037, -3.82879424])"
      ]
     },
     "execution_count": 219,
     "metadata": {},
     "output_type": "execute_result"
    }
   ],
   "source": [
    "np.asarray([np.random.random()*(i-(-i))+(-i) for i in range(1,5)])"
   ]
  },
  {
   "cell_type": "code",
   "execution_count": 41,
   "metadata": {},
   "outputs": [
    {
     "data": {
      "text/plain": [
       "array([[-5,  5],\n",
       "       [-3,  3]])"
      ]
     },
     "execution_count": 41,
     "metadata": {},
     "output_type": "execute_result"
    }
   ],
   "source": [
    "spc"
   ]
  },
  {
   "cell_type": "code",
   "execution_count": 74,
   "metadata": {},
   "outputs": [
    {
     "data": {
      "text/plain": [
       "array([[-3. ,  3. ],\n",
       "       [-1.8,  1.8]])"
      ]
     },
     "execution_count": 74,
     "metadata": {},
     "output_type": "execute_result"
    }
   ],
   "source": [
    "np.append(-.3*np.abs(spc[:,1]-spc[:,0]).reshape(2,1), .3*np.abs(spc[:,1]-spc[:,0]).reshape(2,1), axis=1)"
   ]
  },
  {
   "cell_type": "code",
   "execution_count": 267,
   "metadata": {},
   "outputs": [
    {
     "data": {
      "text/plain": [
       "array([[-1.05893211,  1.83884201],\n",
       "       [ 0.96853092,  2.34247998],\n",
       "       [-1.49533797,  2.24420928],\n",
       "       [ 1.82734445, -2.68422557],\n",
       "       [-0.78674856,  2.39910379]])"
      ]
     },
     "execution_count": 267,
     "metadata": {},
     "output_type": "execute_result"
    }
   ],
   "source": [
    "b"
   ]
  },
  {
   "cell_type": "code",
   "execution_count": 268,
   "metadata": {},
   "outputs": [
    {
     "data": {
      "text/plain": [
       "array([[ 5.52743317, -0.32676976],\n",
       "       [-5.54630438, -0.50440804],\n",
       "       [-2.87736929, -3.29303306],\n",
       "       [-2.90294711,  0.68971606],\n",
       "       [ 5.75745772, -3.88285302]])"
      ]
     },
     "execution_count": 268,
     "metadata": {},
     "output_type": "execute_result"
    }
   ],
   "source": [
    "a-b"
   ]
  },
  {
   "cell_type": "code",
   "execution_count": 432,
   "metadata": {
    "collapsed": true
   },
   "outputs": [],
   "source": [
    "ps[0].cval =2"
   ]
  },
  {
   "cell_type": "code",
   "execution_count": 433,
   "metadata": {},
   "outputs": [
    {
     "data": {
      "text/plain": [
       "2"
      ]
     },
     "execution_count": 433,
     "metadata": {},
     "output_type": "execute_result"
    }
   ],
   "source": [
    "ps[0].cval"
   ]
  },
  {
   "cell_type": "code",
   "execution_count": 790,
   "metadata": {},
   "outputs": [
    {
     "data": {
      "text/plain": [
       "(<matplotlib.figure.Figure at 0x7f623428bd30>,\n",
       " array([<matplotlib.axes._subplots.AxesSubplot object at 0x7f62317f3390>,\n",
       "        <matplotlib.axes._subplots.AxesSubplot object at 0x7f6231800f98>], dtype=object))"
      ]
     },
     "execution_count": 790,
     "metadata": {},
     "output_type": "execute_result"
    }
   ],
   "source": [
    "plt. subplots(1,2)"
   ]
  }
 ],
 "metadata": {
  "kernelspec": {
   "display_name": "Python 3",
   "language": "python",
   "name": "python3"
  },
  "language_info": {
   "codemirror_mode": {
    "name": "ipython",
    "version": 3
   },
   "file_extension": ".py",
   "mimetype": "text/x-python",
   "name": "python",
   "nbconvert_exporter": "python",
   "pygments_lexer": "ipython3",
   "version": "3.6.1"
  }
 },
 "nbformat": 4,
 "nbformat_minor": 2
}
